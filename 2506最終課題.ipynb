{
  "nbformat": 4,
  "nbformat_minor": 0,
  "metadata": {
    "colab": {
      "provenance": []
    },
    "kernelspec": {
      "name": "python3",
      "display_name": "Python 3"
    },
    "language_info": {
      "name": "python"
    }
  },
  "cells": [
    {
      "cell_type": "code",
      "source": [
        "!pip install google-generativeai"
      ],
      "metadata": {
        "colab": {
          "base_uri": "https://localhost:8080/"
        },
        "id": "EkErwjkpVR-D",
        "outputId": "020fbe43-2a9a-4e2f-9069-0d3acb68c2d3"
      },
      "execution_count": 1,
      "outputs": [
        {
          "output_type": "stream",
          "name": "stdout",
          "text": [
            "Requirement already satisfied: google-generativeai in /usr/local/lib/python3.11/dist-packages (0.8.5)\n",
            "Requirement already satisfied: google-ai-generativelanguage==0.6.15 in /usr/local/lib/python3.11/dist-packages (from google-generativeai) (0.6.15)\n",
            "Requirement already satisfied: google-api-core in /usr/local/lib/python3.11/dist-packages (from google-generativeai) (2.25.0)\n",
            "Requirement already satisfied: google-api-python-client in /usr/local/lib/python3.11/dist-packages (from google-generativeai) (2.171.0)\n",
            "Requirement already satisfied: google-auth>=2.15.0 in /usr/local/lib/python3.11/dist-packages (from google-generativeai) (2.38.0)\n",
            "Requirement already satisfied: protobuf in /usr/local/lib/python3.11/dist-packages (from google-generativeai) (5.29.5)\n",
            "Requirement already satisfied: pydantic in /usr/local/lib/python3.11/dist-packages (from google-generativeai) (2.11.5)\n",
            "Requirement already satisfied: tqdm in /usr/local/lib/python3.11/dist-packages (from google-generativeai) (4.67.1)\n",
            "Requirement already satisfied: typing-extensions in /usr/local/lib/python3.11/dist-packages (from google-generativeai) (4.14.0)\n",
            "Requirement already satisfied: proto-plus<2.0.0dev,>=1.22.3 in /usr/local/lib/python3.11/dist-packages (from google-ai-generativelanguage==0.6.15->google-generativeai) (1.26.1)\n",
            "Requirement already satisfied: googleapis-common-protos<2.0.0,>=1.56.2 in /usr/local/lib/python3.11/dist-packages (from google-api-core->google-generativeai) (1.70.0)\n",
            "Requirement already satisfied: requests<3.0.0,>=2.18.0 in /usr/local/lib/python3.11/dist-packages (from google-api-core->google-generativeai) (2.32.3)\n",
            "Requirement already satisfied: cachetools<6.0,>=2.0.0 in /usr/local/lib/python3.11/dist-packages (from google-auth>=2.15.0->google-generativeai) (5.5.2)\n",
            "Requirement already satisfied: pyasn1-modules>=0.2.1 in /usr/local/lib/python3.11/dist-packages (from google-auth>=2.15.0->google-generativeai) (0.4.2)\n",
            "Requirement already satisfied: rsa<5,>=3.1.4 in /usr/local/lib/python3.11/dist-packages (from google-auth>=2.15.0->google-generativeai) (4.9.1)\n",
            "Requirement already satisfied: httplib2<1.0.0,>=0.19.0 in /usr/local/lib/python3.11/dist-packages (from google-api-python-client->google-generativeai) (0.22.0)\n",
            "Requirement already satisfied: google-auth-httplib2<1.0.0,>=0.2.0 in /usr/local/lib/python3.11/dist-packages (from google-api-python-client->google-generativeai) (0.2.0)\n",
            "Requirement already satisfied: uritemplate<5,>=3.0.1 in /usr/local/lib/python3.11/dist-packages (from google-api-python-client->google-generativeai) (4.2.0)\n",
            "Requirement already satisfied: annotated-types>=0.6.0 in /usr/local/lib/python3.11/dist-packages (from pydantic->google-generativeai) (0.7.0)\n",
            "Requirement already satisfied: pydantic-core==2.33.2 in /usr/local/lib/python3.11/dist-packages (from pydantic->google-generativeai) (2.33.2)\n",
            "Requirement already satisfied: typing-inspection>=0.4.0 in /usr/local/lib/python3.11/dist-packages (from pydantic->google-generativeai) (0.4.1)\n",
            "Requirement already satisfied: grpcio<2.0.0,>=1.33.2 in /usr/local/lib/python3.11/dist-packages (from google-api-core[grpc]!=2.0.*,!=2.1.*,!=2.10.*,!=2.2.*,!=2.3.*,!=2.4.*,!=2.5.*,!=2.6.*,!=2.7.*,!=2.8.*,!=2.9.*,<3.0.0dev,>=1.34.1->google-ai-generativelanguage==0.6.15->google-generativeai) (1.72.1)\n",
            "Requirement already satisfied: grpcio-status<2.0.0,>=1.33.2 in /usr/local/lib/python3.11/dist-packages (from google-api-core[grpc]!=2.0.*,!=2.1.*,!=2.10.*,!=2.2.*,!=2.3.*,!=2.4.*,!=2.5.*,!=2.6.*,!=2.7.*,!=2.8.*,!=2.9.*,<3.0.0dev,>=1.34.1->google-ai-generativelanguage==0.6.15->google-generativeai) (1.71.0)\n",
            "Requirement already satisfied: pyparsing!=3.0.0,!=3.0.1,!=3.0.2,!=3.0.3,<4,>=2.4.2 in /usr/local/lib/python3.11/dist-packages (from httplib2<1.0.0,>=0.19.0->google-api-python-client->google-generativeai) (3.2.3)\n",
            "Requirement already satisfied: pyasn1<0.7.0,>=0.6.1 in /usr/local/lib/python3.11/dist-packages (from pyasn1-modules>=0.2.1->google-auth>=2.15.0->google-generativeai) (0.6.1)\n",
            "Requirement already satisfied: charset-normalizer<4,>=2 in /usr/local/lib/python3.11/dist-packages (from requests<3.0.0,>=2.18.0->google-api-core->google-generativeai) (3.4.2)\n",
            "Requirement already satisfied: idna<4,>=2.5 in /usr/local/lib/python3.11/dist-packages (from requests<3.0.0,>=2.18.0->google-api-core->google-generativeai) (3.10)\n",
            "Requirement already satisfied: urllib3<3,>=1.21.1 in /usr/local/lib/python3.11/dist-packages (from requests<3.0.0,>=2.18.0->google-api-core->google-generativeai) (2.4.0)\n",
            "Requirement already satisfied: certifi>=2017.4.17 in /usr/local/lib/python3.11/dist-packages (from requests<3.0.0,>=2.18.0->google-api-core->google-generativeai) (2025.4.26)\n"
          ]
        }
      ]
    },
    {
      "cell_type": "code",
      "source": [
        "from google.colab import userdata\n",
        "import google.generativeai as genai\n",
        "\n",
        "# ColabシークレットからAPIキーを取得\n",
        "api_key = userdata.get('GOOGLE_API_KEY')\n",
        "if not api_key:\n",
        "    raise ValueError(\"APIキーが取得できません。シークレット名を必ず 'GOOGLE_API_KEY' にしてください。\")\n",
        "\n",
        "genai.configure(api_key=api_key)\n",
        "\n",
        "model = genai.GenerativeModel(\"gemini-1.5-flash\")\n",
        "response = model.generate_content(\"こんにちは！これはテストです。\")\n",
        "print(response.text)\n"
      ],
      "metadata": {
        "colab": {
          "base_uri": "https://localhost:8080/",
          "height": 54
        },
        "id": "jmA0eF-QVWWx",
        "outputId": "a5546e5a-a13e-414f-a7cd-2e852565f42f"
      },
      "execution_count": 2,
      "outputs": [
        {
          "output_type": "stream",
          "name": "stdout",
          "text": [
            "こんにちは！テストですね！何かお手伝いできることはありますか？\n",
            "\n"
          ]
        }
      ]
    },
    {
      "cell_type": "code",
      "source": [
        "transcript = \"\"\"\n",
        "えっと、今日は、あの、機械学習について、うーん、話したいと思います。で、最初にえーっと、なんだっけ、あ、特徴量選択について、まず説明します。\n",
        "\"\"\"\n",
        "\n",
        "prompt = f\"\"\"\n",
        "以下の講義書き起こしテキストを、読みやすい自然な日本語に修正してください。\n",
        "どもりや言い直し、不自然な表現を除去し、必要に応じて適切な句読点をつけてください。\n",
        "\n",
        "【書き起こし】\n",
        "{transcript}\n",
        "\"\"\"\n",
        "\n",
        "response = model.generate_content(prompt)\n",
        "print(response.text)\n"
      ],
      "metadata": {
        "colab": {
          "base_uri": "https://localhost:8080/",
          "height": 54
        },
        "id": "zxbhNibJYFei",
        "outputId": "78b68fe9-43db-4a63-cacf-97541b76ca54"
      },
      "execution_count": 3,
      "outputs": [
        {
          "output_type": "stream",
          "name": "stdout",
          "text": [
            "今日は機械学習についてお話します。最初に、特徴量選択について説明します。\n",
            "\n"
          ]
        }
      ]
    },
    {
      "cell_type": "code",
      "source": [
        "# 入力ファイルから読み込み\n",
        "with open(\"LLM2024_day2_s2t書き起こし(修正前).txt_\", \"r\", encoding=\"utf-8\") as f:\n",
        "    transcript = f.read()\n",
        "\n",
        "prompt = f\"\"\"\n",
        "以下の講義書き起こしテキストを、読みやすい自然な日本語に修正してください。\n",
        "どもりや言い直し、不自然な表現を除去し、必要に応じて適切な句読点をつけてください。\n",
        "\n",
        "【書き起こし】\n",
        "{transcript}\n",
        "\"\"\"\n",
        "\n",
        "response = model.generate_content(prompt)\n",
        "\n",
        "# 出力をファイルに保存\n",
        "with open(\"transcript_fixed.txt\", \"w\", encoding=\"utf-8\") as f:\n",
        "    f.write(response.text)"
      ],
      "metadata": {
        "id": "x773-gexYaLD"
      },
      "execution_count": 4,
      "outputs": []
    },
    {
      "cell_type": "code",
      "source": [
        "!pip install python-pptx\n",
        "\n"
      ],
      "metadata": {
        "colab": {
          "base_uri": "https://localhost:8080/"
        },
        "id": "Ab8ZrxbocHuF",
        "outputId": "1ecc9963-02d5-4707-cc83-0ebb3b4dee09"
      },
      "execution_count": 5,
      "outputs": [
        {
          "output_type": "stream",
          "name": "stdout",
          "text": [
            "Requirement already satisfied: python-pptx in /usr/local/lib/python3.11/dist-packages (1.0.2)\n",
            "Requirement already satisfied: Pillow>=3.3.2 in /usr/local/lib/python3.11/dist-packages (from python-pptx) (11.2.1)\n",
            "Requirement already satisfied: XlsxWriter>=0.5.7 in /usr/local/lib/python3.11/dist-packages (from python-pptx) (3.2.3)\n",
            "Requirement already satisfied: lxml>=3.1.0 in /usr/local/lib/python3.11/dist-packages (from python-pptx) (5.4.0)\n",
            "Requirement already satisfied: typing-extensions>=4.9.0 in /usr/local/lib/python3.11/dist-packages (from python-pptx) (4.14.0)\n"
          ]
        }
      ]
    },
    {
      "cell_type": "code",
      "source": [
        "from pptx import Presentation\n",
        "\n",
        "pptx_path = \"02_Matsuo_Lab_LLM_Day2_20240911.pptx  _\"  # ←自分のファイル名に合わせて\n",
        "\n",
        "# pptxを開く\n",
        "prs = Presentation(pptx_path)\n",
        "\n",
        "# 全スライドのテキストをまとめて抽出\n",
        "slide_text = \"\"\n",
        "for slide in prs.slides:\n",
        "    for shape in slide.shapes:\n",
        "        if hasattr(shape, \"text\"):\n",
        "            slide_text += shape.text + \"\\n\"\n",
        "\n",
        "# 抽出したテキストを一部表示\n",
        "print(slide_text[:1000])\n"
      ],
      "metadata": {
        "colab": {
          "base_uri": "https://localhost:8080/"
        },
        "id": "VsStHnf4dOh1",
        "outputId": "dbec5de2-d641-4496-bc69-12b8768db0ff"
      },
      "execution_count": 6,
      "outputs": [
        {
          "output_type": "stream",
          "name": "stdout",
          "text": [
            "注意事項: 本資料の再利用(2次利用)について\n",
            "本資料は東京大学 松尾・岩澤研究室が作成し、東京大学サマースクール2024として2024年9月から11月にかけて開催されたLLM大規模言語モデル講座の講義資料となっております。\n",
            "本資料はクリエイティブ・コモンズのCC BY-NC-SA 4.0 DEED(表示 – 非営利 – 継承 4.0 国際)のライセンスが登録されています。\n",
            "ライセンスの表示について\n",
            "各スライドのページ最下部にライセンスの記載がございます。再利用時にはこちらの要素も含めてご利用ください。ただしこちらはスライドマスターに設定されている為、再利用時に複製が困難な場合は、下記のテキストボックスを利用の上、ハイパーリンクも含めてライセンスの表記をする様にお願いします。\n",
            "\n",
            "\n",
            "再利用するページに参照論文等の引用がある場合は、巻末にあるReferenceより引用箇所を掲載してください。(引用元の著作権者に対しての再利用の正当性が証明できなくなる可能性がございます。)\n",
            "非営利目的での利用に限り、再利用(2次利用)が許諾されております。\n",
            "営利目的での再利用の場合はこちらからお問い合わせください。\n",
            "元の表現が変わらない範囲(フォント、サイズ等)であれば改変可能です。\n",
            "それ以外の改変や、その他ライセンスについての詳細は、こちらをご覧の上、適切な取り扱いをして頂くようお願いします。\n",
            "東京大学 松尾・岩澤研究室\n",
            "LLM 大規模言語モデル講座 講義資料  © 2024 by  東京大学松尾・岩澤研究室 is licensed under CC BY-NC-ND 4.0\n",
            "2. PromptingとRAG\n",
            "大規模言語モデル 2024\n",
            "講師：原田 憲旺\n",
            "2024/09/11\n",
            "原田 憲旺（はらだ けんおう）@KH_ls_ippon\n",
            "‹#›\n",
            "松尾・岩澤研 博士課程 2年\n",
            "去年の講座立ち上げ時に講座の資料作成・コンペ作成担当\n",
            "GENIACで評価担当\n",
            "■ 研究テーマ\n",
            "大規模言語モデルの文脈活用能力について\n",
            "Mechanistic interpretability\n",
            "Lost in the middle\n",
            "Instruction following\n",
            "教育場面における大規模言語モデル応用\n",
            "Retrieval augmented generation\n",
            "■ 担当講座\n",
            "第2回 講義 PromptingとR\n"
          ]
        }
      ]
    },
    {
      "cell_type": "code",
      "source": [
        "with open(\"slide.txt\", \"w\", encoding=\"utf-8\") as f:\n",
        "    f.write(slide_text)\n"
      ],
      "metadata": {
        "id": "fGiDIAvNcK0D"
      },
      "execution_count": 7,
      "outputs": []
    },
    {
      "cell_type": "code",
      "source": [
        "# --- 1. pptxからスライドテキスト抽出 ---\n",
        "from pptx import Presentation\n",
        "\n",
        "pptx_path = \"02_Matsuo_Lab_LLM_Day2_20240911.pptx  _\"\n",
        "prs = Presentation(pptx_path)\n",
        "slide_text = \"\"\n",
        "for slide in prs.slides:\n",
        "    for shape in slide.shapes:\n",
        "        if hasattr(shape, \"text\"):\n",
        "            slide_text += shape.text + \"\\n\"\n",
        "\n",
        "# --- 2. 書き起こしテキストの読み込み ---\n",
        "with open(\"LLM2024_day2_s2t書き起こし(修正前).txt_\", \"r\", encoding=\"utf-8\") as f:\n",
        "    transcript = f.read()\n",
        "\n",
        "# --- 3. Geminiで修正（ここにあなたのコードを追加） ---\n",
        "from google.colab import userdata\n",
        "import google.generativeai as genai\n",
        "\n",
        "api_key = userdata.get('GOOGLE_API_KEY')\n",
        "genai.configure(api_key=api_key)\n",
        "model = genai.GenerativeModel(\"gemini-1.5-flash\")\n",
        "\n",
        "prompt = f\"\"\"\n",
        "あなたは議事書き起こしのプロです。\n",
        "下記の「スライド資料」にある専門用語や固有名詞を参考に、「議事録書き起こし」を以下の通り修正してください。\n",
        "- 専門用語・固有名詞はスライド資料表記に統一してください\n",
        "- どもり・不自然な表現は除去してください\n",
        "- 必要に応じて適切な句読点をつけてください\n",
        "- タイムスタンプも付与すること\n",
        "- 元の文章を必要以上にまとめたり、削り過ぎないようにすること\n",
        "\n",
        "【スライド資料】\n",
        "{slide_text}\n",
        "\n",
        "【議事録書き起こし】\n",
        "{transcript}\n",
        "\"\"\"\n",
        "\n",
        "response = model.generate_content(prompt)\n",
        "result = response.text\n",
        "\n",
        "with open(\"transcript_fixed.txt\", \"w\", encoding=\"utf-8\") as f:\n",
        "    f.write(result)\n",
        "\n",
        "print(\"修正後テキストを transcript_fixed.txt に保存しました！\")\n"
      ],
      "metadata": {
        "colab": {
          "base_uri": "https://localhost:8080/",
          "height": 35
        },
        "id": "Csz_zY8GgI2L",
        "outputId": "899cfc2e-cde4-43e5-cd1b-2fc14d79c338"
      },
      "execution_count": 10,
      "outputs": [
        {
          "output_type": "stream",
          "name": "stdout",
          "text": [
            "修正後テキストを transcript_fixed.txt に保存しました！\n"
          ]
        }
      ]
    },
    {
      "cell_type": "code",
      "source": [],
      "metadata": {
        "id": "DR_--aQ0mitz"
      },
      "execution_count": 8,
      "outputs": []
    }
  ]
}